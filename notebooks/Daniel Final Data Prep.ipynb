{
 "cells": [
  {
   "cell_type": "code",
   "execution_count": 1,
   "id": "2b05cceb",
   "metadata": {},
   "outputs": [],
   "source": [
    "import pandas as pd\n",
    "import numpy as np\n",
    "import matplotlib.pyplot as plt\n",
    "import seaborn as sns "
   ]
  },
  {
   "cell_type": "code",
   "execution_count": 2,
   "id": "b5b38234",
   "metadata": {},
   "outputs": [],
   "source": [
    "df = pd.read_csv(\"../raw_data/real_estate_data.csv\",index_col=\"Unnamed: 0\").drop(columns=\"Unnamed: 0.1\")"
   ]
  },
  {
   "cell_type": "code",
   "execution_count": 3,
   "id": "196ff3da",
   "metadata": {},
   "outputs": [],
   "source": [
    "df = df.drop(columns=[\"elevator\",\"heating\",\"floor\"])"
   ]
  },
  {
   "cell_type": "code",
   "execution_count": 4,
   "id": "856910c9",
   "metadata": {},
   "outputs": [
    {
     "name": "stdout",
     "output_type": "stream",
     "text": [
      "<class 'pandas.core.frame.DataFrame'>\n",
      "Int64Index: 6860 entries, 0 to 299\n",
      "Data columns (total 4 columns):\n",
      " #   Column        Non-Null Count  Dtype \n",
      "---  ------        --------------  ----- \n",
      " 0   price         6860 non-null   object\n",
      " 1   rooms         6845 non-null   object\n",
      " 2   surface       6853 non-null   object\n",
      " 3   neighborhood  6860 non-null   object\n",
      "dtypes: object(4)\n",
      "memory usage: 268.0+ KB\n"
     ]
    }
   ],
   "source": [
    "df.info()"
   ]
  },
  {
   "cell_type": "code",
   "execution_count": 5,
   "id": "dc7e0585",
   "metadata": {},
   "outputs": [
    {
     "name": "stderr",
     "output_type": "stream",
     "text": [
      "/tmp/ipykernel_8631/3991259347.py:6: SettingWithCopyWarning: \n",
      "A value is trying to be set on a copy of a slice from a DataFrame.\n",
      "Try using .loc[row_indexer,col_indexer] = value instead\n",
      "\n",
      "See the caveats in the documentation: https://pandas.pydata.org/pandas-docs/stable/user_guide/indexing.html#returning-a-view-versus-a-copy\n",
      "  df_nonull[\"surface\"] = new[0]\n"
     ]
    }
   ],
   "source": [
    "# surface\n",
    "# dropping nulls\n",
    "df_nonull = df[df['surface'].notna()]\n",
    "# cleaning string\n",
    "new = df_nonull[\"surface\"].str.split(\" \", n = 1, expand = True)\n",
    "df_nonull[\"surface\"] = new[0]\n",
    "# filter numbers\n",
    "df_nonull = df_nonull[df_nonull['surface'].str.isnumeric()]\n",
    "# to float\n",
    "df_nonull[\"surface\"] = df_nonull[\"surface\"].astype(float)\n",
    "\n",
    "df = df_nonull"
   ]
  },
  {
   "cell_type": "code",
   "execution_count": 6,
   "id": "63535d5e",
   "metadata": {},
   "outputs": [],
   "source": [
    "# new data frame with split value columns\n",
    "new = df[\"neighborhood\"].str.split(\" en \", n = 1, expand = True)\n",
    "  \n",
    "# making separate housetype\n",
    "df[\"nhousetype\"]= new[0]\n",
    "  \n",
    "# making separate dirty neighborhood\n",
    "df[\"ndirty\"]= new[1]\n",
    "  \n",
    "# cleaning neighborhood\n",
    "new = df[\"ndirty\"].str.split(\" en \", n = 1, expand = True)\n",
    "df[\"neighborhood\"] = new[1]\n",
    "df[\"neighborhood\"] = df[\"neighborhood\"].apply(lambda x: x.split(\", \")[-1])\n",
    "\n",
    "df = df.drop(columns=\"ndirty\")"
   ]
  },
  {
   "cell_type": "code",
   "execution_count": 8,
   "id": "4626b72a",
   "metadata": {},
   "outputs": [
    {
     "data": {
      "text/plain": [
       "22"
      ]
     },
     "execution_count": 8,
     "metadata": {},
     "output_type": "execute_result"
    }
   ],
   "source": [
    "len(df[\"neighborhood\"].unique())"
   ]
  },
  {
   "cell_type": "code",
   "execution_count": 7,
   "id": "f33cb8ae",
   "metadata": {},
   "outputs": [
    {
     "name": "stderr",
     "output_type": "stream",
     "text": [
      "/tmp/ipykernel_6082/4006196459.py:4: FutureWarning: The default value of regex will change from True to False in a future version. In addition, single character regular expressions will *not* be treated as literal strings when regex=True.\n",
      "  new[0] = new[0].str.replace(\".\",\"\")\n"
     ]
    }
   ],
   "source": [
    "# price\n",
    "# cleaning string\n",
    "new = df[\"price\"].str.split(\" \", n = 1, expand = True)\n",
    "new[0] = new[0].str.replace(\".\",\"\")\n",
    "df[\"price\"] = new[0]\n",
    "# number filter\n",
    "df = df[df['price'].str.isnumeric()]\n",
    "# to float\n",
    "df[\"price\"] = df[\"price\"].astype(float)\n"
   ]
  },
  {
   "cell_type": "code",
   "execution_count": 8,
   "id": "a28a009c",
   "metadata": {},
   "outputs": [],
   "source": [
    "# rooms\n",
    "# cleaning string\n",
    "new = df[\"rooms\"].str.split(\" \", n = 1, expand = True)\n",
    "# to float\n",
    "new[0] = new[0].astype(float)\n",
    "df[\"rooms\"] = new[0]\n",
    "df_clean = df\n"
   ]
  }
 ],
 "metadata": {
  "kernelspec": {
   "display_name": "Python 3 (ipykernel)",
   "language": "python",
   "name": "python3"
  },
  "language_info": {
   "codemirror_mode": {
    "name": "ipython",
    "version": 3
   },
   "file_extension": ".py",
   "mimetype": "text/x-python",
   "name": "python",
   "nbconvert_exporter": "python",
   "pygments_lexer": "ipython3",
   "version": "3.8.12"
  },
  "toc": {
   "base_numbering": 1,
   "nav_menu": {},
   "number_sections": true,
   "sideBar": true,
   "skip_h1_title": false,
   "title_cell": "Table of Contents",
   "title_sidebar": "Contents",
   "toc_cell": false,
   "toc_position": {},
   "toc_section_display": true,
   "toc_window_display": false
  }
 },
 "nbformat": 4,
 "nbformat_minor": 5
}
