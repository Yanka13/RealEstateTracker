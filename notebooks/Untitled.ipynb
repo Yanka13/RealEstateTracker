{
 "cells": [
  {
   "cell_type": "code",
   "execution_count": 2,
   "id": "ea933933",
   "metadata": {},
   "outputs": [],
   "source": [
    "import pandas as pd\n",
    "import os"
   ]
  },
  {
   "cell_type": "code",
   "execution_count": null,
   "id": "681a90ff",
   "metadata": {},
   "outputs": [],
   "source": []
  },
  {
   "cell_type": "code",
   "execution_count": 12,
   "id": "8604e950",
   "metadata": {},
   "outputs": [],
   "source": [
    "data_files = os.listdir(\"../raw_data\")"
   ]
  },
  {
   "cell_type": "code",
   "execution_count": 13,
   "id": "932d810a",
   "metadata": {},
   "outputs": [
    {
     "data": {
      "text/plain": [
       "['real_estate200.csv',\n",
       " 'real_estate50.csv',\n",
       " 'real_estate160.csv',\n",
       " 'real_estate40.csv',\n",
       " '.DS_Store',\n",
       " 'real_estate_20.csv',\n",
       " 'real_estate100.csv',\n",
       " 'real_estate310.csv',\n",
       " 'real_estate_30.csv',\n",
       " 'real_estate120.csv',\n",
       " 'real_estate_10.csv',\n",
       " 'real_estate70.csv']"
      ]
     },
     "execution_count": 13,
     "metadata": {},
     "output_type": "execute_result"
    }
   ],
   "source": [
    "data_files"
   ]
  },
  {
   "cell_type": "code",
   "execution_count": 15,
   "id": "715bc5d2",
   "metadata": {},
   "outputs": [],
   "source": [
    "data_files.remove(\".DS_Store\")"
   ]
  },
  {
   "cell_type": "code",
   "execution_count": 20,
   "id": "aec848a6",
   "metadata": {},
   "outputs": [],
   "source": [
    "def load_files(filenames):\n",
    "    for filename in filenames:\n",
    "        yield pd.read_csv(\"../raw_data/\" + filename)"
   ]
  },
  {
   "cell_type": "code",
   "execution_count": null,
   "id": "32808ee2",
   "metadata": {},
   "outputs": [],
   "source": []
  },
  {
   "cell_type": "code",
   "execution_count": 21,
   "id": "fb68368c",
   "metadata": {},
   "outputs": [],
   "source": [
    "data = pd.concat(load_files(data_files))"
   ]
  },
  {
   "cell_type": "code",
   "execution_count": null,
   "id": "16abd4d6",
   "metadata": {},
   "outputs": [],
   "source": []
  },
  {
   "cell_type": "code",
   "execution_count": 3,
   "id": "64fed5ed",
   "metadata": {},
   "outputs": [],
   "source": [
    "data = pd.read_csv(\"../raw_data/clean_data.csv\")"
   ]
  },
  {
   "cell_type": "code",
   "execution_count": null,
   "id": "98b7ffe5",
   "metadata": {},
   "outputs": [],
   "source": []
  },
  {
   "cell_type": "code",
   "execution_count": null,
   "id": "0618dbd5",
   "metadata": {},
   "outputs": [],
   "source": []
  },
  {
   "cell_type": "code",
   "execution_count": 7,
   "id": "07595fd0",
   "metadata": {},
   "outputs": [],
   "source": [
    "df1_eng = {'Piso':'Flat',\n",
    "           'Dúplex':'Duplex',\n",
    "           'Apartamento':'Apartment',\n",
    "           'Ático':'Attic',\n",
    "           'Loft':'Loft',\n",
    "           'Planta baja':'Ground floor',\n",
    "           'Finca rústica':'Rural property',\n",
    "           'Estudio':'Study',\n",
    "           'Casa adosada':'Single-family semi-detached',\n",
    "           'Casa o chalet':'House or chalet'}"
   ]
  },
  {
   "cell_type": "code",
   "execution_count": 11,
   "id": "d0b70ae8",
   "metadata": {},
   "outputs": [
    {
     "data": {
      "text/plain": [
       "'Flat'"
      ]
     },
     "execution_count": 11,
     "metadata": {},
     "output_type": "execute_result"
    }
   ],
   "source": [
    "df1_trans = {\"Flat\": \"Piso\", \n",
    "            \"Duplex\": \"Dúplex\",\n",
    "            \"Apartment\": \"Apartamento\",\n",
    "            \"Attic\": \"Ático\",\n",
    "            \"Loft\": \"Loft\",\n",
    "            \"Gound floor\": \"Planta baja\",\n",
    "            \"Rural property\": \"Finca rústica\",\n",
    "            \"Study\", \"Estudio\",\n",
    "            \"Single-family semi-detached\": \"Casa adosada\",\n",
    "            \"House or chalet\": \"Casa o chalet\"}"
   ]
  },
  {
   "cell_type": "code",
   "execution_count": 8,
   "id": "f833243c",
   "metadata": {},
   "outputs": [
    {
     "data": {
      "text/plain": [
       "0        Flat\n",
       "1        Flat\n",
       "2        Flat\n",
       "3        Flat\n",
       "4        Flat\n",
       "        ...  \n",
       "5735     Flat\n",
       "5736     Flat\n",
       "5737    Attic\n",
       "5738    Attic\n",
       "5739     Flat\n",
       "Name: tipo, Length: 5740, dtype: object"
      ]
     },
     "execution_count": 8,
     "metadata": {},
     "output_type": "execute_result"
    }
   ],
   "source": [
    "data.tipo.map(df1_eng)"
   ]
  },
  {
   "cell_type": "code",
   "execution_count": 12,
   "id": "9f0d3d82",
   "metadata": {},
   "outputs": [],
   "source": [
    "import joblib"
   ]
  },
  {
   "cell_type": "code",
   "execution_count": 13,
   "id": "000450ab",
   "metadata": {},
   "outputs": [
    {
     "name": "stderr",
     "output_type": "stream",
     "text": [
      "/Users/lucas/.pyenv/versions/3.8.12/envs/lewagon/lib/python3.8/site-packages/sklearn/base.py:329: UserWarning: Trying to unpickle estimator RobustScaler from version 1.1.1 when using version 1.0.2. This might lead to breaking code or invalid results. Use at your own risk. For more info please refer to:\n",
      "https://scikit-learn.org/stable/modules/model_persistence.html#security-maintainability-limitations\n",
      "  warnings.warn(\n",
      "/Users/lucas/.pyenv/versions/3.8.12/envs/lewagon/lib/python3.8/site-packages/sklearn/base.py:329: UserWarning: Trying to unpickle estimator OneHotEncoder from version 1.1.1 when using version 1.0.2. This might lead to breaking code or invalid results. Use at your own risk. For more info please refer to:\n",
      "https://scikit-learn.org/stable/modules/model_persistence.html#security-maintainability-limitations\n",
      "  warnings.warn(\n",
      "/Users/lucas/.pyenv/versions/3.8.12/envs/lewagon/lib/python3.8/site-packages/sklearn/base.py:329: UserWarning: Trying to unpickle estimator ColumnTransformer from version 1.1.1 when using version 1.0.2. This might lead to breaking code or invalid results. Use at your own risk. For more info please refer to:\n",
      "https://scikit-learn.org/stable/modules/model_persistence.html#security-maintainability-limitations\n",
      "  warnings.warn(\n",
      "/Users/lucas/.pyenv/versions/3.8.12/envs/lewagon/lib/python3.8/site-packages/sklearn/base.py:329: UserWarning: Trying to unpickle estimator Pipeline from version 1.1.1 when using version 1.0.2. This might lead to breaking code or invalid results. Use at your own risk. For more info please refer to:\n",
      "https://scikit-learn.org/stable/modules/model_persistence.html#security-maintainability-limitations\n",
      "  warnings.warn(\n"
     ]
    }
   ],
   "source": [
    "potato = joblib.load(\"../RealEstateTracker/model.joblib\")"
   ]
  },
  {
   "cell_type": "code",
   "execution_count": 16,
   "id": "0c288075",
   "metadata": {},
   "outputs": [],
   "source": [
    "data_x = data.drop(columns=[\"price\",\"Unnamed: 0\"])"
   ]
  },
  {
   "cell_type": "code",
   "execution_count": 36,
   "id": "6f2171a9",
   "metadata": {},
   "outputs": [
    {
     "data": {
      "text/plain": [
       "Pipeline(steps=[('columntransformer',\n",
       "                 ColumnTransformer(remainder='passthrough',\n",
       "                                   transformers=[('robustscaler',\n",
       "                                                  RobustScaler(),\n",
       "                                                  ['rooms', 'surface']),\n",
       "                                                 ('onehotencoder',\n",
       "                                                  OneHotEncoder(handle_unknown='ignore',\n",
       "                                                                sparse=False),\n",
       "                                                  ['neighborhood',\n",
       "                                                   'nhousetype'])])),\n",
       "                ('xgbregressor',\n",
       "                 XGBRegressor(base_score=0.5, booster='gbtree',\n",
       "                              colsample_bylevel=1, colsample_bynode=1,\n",
       "                              co...\n",
       "                              gamma=0, gpu_id=-1, importance_type=None,\n",
       "                              interaction_constraints='',\n",
       "                              learning_rate=0.300000012, max_delta_step=0,\n",
       "                              max_depth=6, min_child_weight=1, missing=nan,\n",
       "                              monotone_constraints='()', n_estimators=100,\n",
       "                              n_jobs=8, num_parallel_tree=1, predictor='auto',\n",
       "                              random_state=0, reg_alpha=0, reg_lambda=1,\n",
       "                              scale_pos_weight=1, subsample=1,\n",
       "                              tree_method='exact', validate_parameters=1,\n",
       "                              verbosity=None))])"
      ]
     },
     "execution_count": 36,
     "metadata": {},
     "output_type": "execute_result"
    }
   ],
   "source": [
    "potato\n"
   ]
  },
  {
   "cell_type": "code",
   "execution_count": 37,
   "id": "38a22b69",
   "metadata": {},
   "outputs": [
    {
     "data": {
      "text/html": [
       "<div>\n",
       "<style scoped>\n",
       "    .dataframe tbody tr th:only-of-type {\n",
       "        vertical-align: middle;\n",
       "    }\n",
       "\n",
       "    .dataframe tbody tr th {\n",
       "        vertical-align: top;\n",
       "    }\n",
       "\n",
       "    .dataframe thead th {\n",
       "        text-align: right;\n",
       "    }\n",
       "</style>\n",
       "<table border=\"1\" class=\"dataframe\">\n",
       "  <thead>\n",
       "    <tr style=\"text-align: right;\">\n",
       "      <th></th>\n",
       "      <th>rooms</th>\n",
       "      <th>surface</th>\n",
       "      <th>neighborhood</th>\n",
       "      <th>nhousetype</th>\n",
       "    </tr>\n",
       "  </thead>\n",
       "  <tbody>\n",
       "    <tr>\n",
       "      <th>1</th>\n",
       "      <td>3</td>\n",
       "      <td>78</td>\n",
       "      <td>Retiro</td>\n",
       "      <td>Piso</td>\n",
       "    </tr>\n",
       "  </tbody>\n",
       "</table>\n",
       "</div>"
      ],
      "text/plain": [
       "   rooms  surface neighborhood nhousetype\n",
       "1      3       78       Retiro       Piso"
      ]
     },
     "execution_count": 37,
     "metadata": {},
     "output_type": "execute_result"
    }
   ],
   "source": [
    "data = data_x.loc[[1]]\n",
    "data.columns = [\"rooms\", \"surface\", \"neighborhood\", \"nhousetype\"]\n",
    "data"
   ]
  },
  {
   "cell_type": "code",
   "execution_count": 54,
   "id": "f888a266",
   "metadata": {},
   "outputs": [
    {
     "data": {
      "text/plain": [
       "array([143106.1], dtype=float32)"
      ]
     },
     "execution_count": 54,
     "metadata": {},
     "output_type": "execute_result"
    }
   ],
   "source": [
    "potato.predict(data_1)"
   ]
  },
  {
   "cell_type": "code",
   "execution_count": 53,
   "id": "e127a634",
   "metadata": {},
   "outputs": [],
   "source": [
    "param = {\"pick_rooms\": 2,\n",
    "         \"surface\": 2,\n",
    "         \"neighborhood\": \"Retiro\",\n",
    "         'type': \"Piso\"}\n",
    "data_1 = pd.DataFrame(param, index=[0])\\\n",
    ".rename(columns={\"pick_rooms\":\"rooms\", \n",
    "                 \"surface\": \"surface\", \n",
    "                 \"neighborhood\": \"neighborhood\",\n",
    "                 \"type\": \"nhousetype\"})\n",
    "\n",
    "\n",
    "\n",
    "\n",
    "\n"
   ]
  },
  {
   "cell_type": "code",
   "execution_count": 43,
   "id": "817680e8",
   "metadata": {},
   "outputs": [
    {
     "data": {
      "text/html": [
       "<div>\n",
       "<style scoped>\n",
       "    .dataframe tbody tr th:only-of-type {\n",
       "        vertical-align: middle;\n",
       "    }\n",
       "\n",
       "    .dataframe tbody tr th {\n",
       "        vertical-align: top;\n",
       "    }\n",
       "\n",
       "    .dataframe thead th {\n",
       "        text-align: right;\n",
       "    }\n",
       "</style>\n",
       "<table border=\"1\" class=\"dataframe\">\n",
       "  <thead>\n",
       "    <tr style=\"text-align: right;\">\n",
       "      <th></th>\n",
       "      <th>rooms</th>\n",
       "      <th>surface</th>\n",
       "      <th>neighborhood</th>\n",
       "      <th>nhousetype</th>\n",
       "    </tr>\n",
       "  </thead>\n",
       "  <tbody>\n",
       "    <tr>\n",
       "      <th>1</th>\n",
       "      <td>NaN</td>\n",
       "      <td>2</td>\n",
       "      <td>Retiro</td>\n",
       "      <td>NaN</td>\n",
       "    </tr>\n",
       "  </tbody>\n",
       "</table>\n",
       "</div>"
      ],
      "text/plain": [
       "  rooms  surface neighborhood nhousetype\n",
       "1   NaN        2       Retiro        NaN"
      ]
     },
     "execution_count": 43,
     "metadata": {},
     "output_type": "execute_result"
    }
   ],
   "source": [
    "param = {\"pick_rooms\": 2,\n",
    "         \"surface\": 2,\n",
    "         \"neighborhood\": \"Retiro\",\n",
    "         'type': \"Piso\"}\n",
    "\n",
    "param = pd.DataFrame(param, columns = [\"rooms\", \"surface\", \"neighborhood\", \"nhousetype\"], index=[1])\n",
    "\n",
    "param\n"
   ]
  }
 ],
 "metadata": {
  "kernelspec": {
   "display_name": "Python 3 (ipykernel)",
   "language": "python",
   "name": "python3"
  },
  "language_info": {
   "codemirror_mode": {
    "name": "ipython",
    "version": 3
   },
   "file_extension": ".py",
   "mimetype": "text/x-python",
   "name": "python",
   "nbconvert_exporter": "python",
   "pygments_lexer": "ipython3",
   "version": "3.8.12"
  },
  "toc": {
   "base_numbering": 1,
   "nav_menu": {},
   "number_sections": true,
   "sideBar": true,
   "skip_h1_title": false,
   "title_cell": "Table of Contents",
   "title_sidebar": "Contents",
   "toc_cell": false,
   "toc_position": {},
   "toc_section_display": true,
   "toc_window_display": false
  }
 },
 "nbformat": 4,
 "nbformat_minor": 5
}
