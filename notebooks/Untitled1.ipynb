{
 "cells": [
  {
   "cell_type": "code",
   "execution_count": 1,
   "id": "fc4050fa",
   "metadata": {},
   "outputs": [],
   "source": [
    "import pandas as pd\n",
    "import numpy as np"
   ]
  },
  {
   "cell_type": "code",
   "execution_count": 1,
   "id": "40926e86",
   "metadata": {},
   "outputs": [],
   "source": []
  },
  {
   "cell_type": "code",
   "execution_count": 2,
   "id": "2b2c1a3d",
   "metadata": {},
   "outputs": [],
   "source": [
    "from RealEstateTracker.preprocessing import rooms"
   ]
  },
  {
   "cell_type": "code",
   "execution_count": 85,
   "id": "d1adec8a",
   "metadata": {},
   "outputs": [],
   "source": [
    "data = pd.read_csv(\"../real-estate-tracker/data/flats_data.csv\")"
   ]
  },
  {
   "cell_type": "code",
   "execution_count": 86,
   "id": "f6cd861f",
   "metadata": {},
   "outputs": [],
   "source": [
    "data = data.drop(columns=[\"Unnamed: 0\", \"Unnamed: 0.1\", \"elevator\", \"heating\", \"floor\"])"
   ]
  },
  {
   "cell_type": "code",
   "execution_count": 87,
   "id": "544b1450",
   "metadata": {},
   "outputs": [],
   "source": [
    "data[\"tipo\"] = data[\"neighborhood\"].apply(lambda x: x.split(\" en \")[0])"
   ]
  },
  {
   "cell_type": "code",
   "execution_count": 88,
   "id": "8d05f31b",
   "metadata": {},
   "outputs": [],
   "source": [
    "data[\"neighborhood\"] = data[\"neighborhood\"].apply(lambda x: x.split(\" en \")[-1])"
   ]
  },
  {
   "cell_type": "code",
   "execution_count": 89,
   "id": "4216abcf",
   "metadata": {},
   "outputs": [],
   "source": [
    "data[\"neighborhood\"] = data[\"neighborhood\"].apply(lambda x: x.split(\",\")[-1])"
   ]
  },
  {
   "cell_type": "code",
   "execution_count": 90,
   "id": "8f3a3623",
   "metadata": {},
   "outputs": [
    {
     "data": {
      "text/plain": [
       "array(['Chamberí', ' Retiro', ' Carabanchel', ' Villa de Vallecas',\n",
       "       ' Centro', 'Tetuán', 'Centro', ' Tetuán', 'Carabanchel',\n",
       "       ' Puente de Vallecas', 'Barrio de Salamanca', 'Chamartín',\n",
       "       ' Usera', ' Moncloa - Aravaca', ' Ciudad Lineal',\n",
       "       ' Barrio de Salamanca', 'Arganzuela', ' Chamartín',\n",
       "       'Fuencarral - El Pardo', ' Villaverde', ' Latina', 'Moratalaz',\n",
       "       ' Chamberí', 'Vicálvaro', 'Ciudad Lineal', ' Arganzuela',\n",
       "       ' Barajas', ' Hortaleza', 'Moncloa - Aravaca', 'Hortaleza',\n",
       "       '  Madrid Capital', 'San Blas', 'Latina', 'Retiro', 'Usera',\n",
       "       ' San Blas', 'Villa de Vallecas', 'Villaverde', 'Barajas',\n",
       "       'Puente de Vallecas', ' Vicálvaro', ' Fuencarral - El Pardo',\n",
       "       ' Moratalaz', ' Madrid Capital'], dtype=object)"
      ]
     },
     "execution_count": 90,
     "metadata": {},
     "output_type": "execute_result"
    }
   ],
   "source": [
    "data[\"neighborhood\"].unique()"
   ]
  },
  {
   "cell_type": "code",
   "execution_count": 53,
   "id": "78663253",
   "metadata": {},
   "outputs": [],
   "source": [
    "data = data[data[\"price\"].str.contains(\"€\")]"
   ]
  },
  {
   "cell_type": "code",
   "execution_count": 94,
   "id": "a528cbc8",
   "metadata": {},
   "outputs": [],
   "source": [
    "data = data[~data[\"rooms\"].fillna(\"0 hab\").str.contains(\"ñ\")]"
   ]
  },
  {
   "cell_type": "code",
   "execution_count": 101,
   "id": "863d3206",
   "metadata": {},
   "outputs": [],
   "source": [
    "data = data[~data[\"rooms\"].fillna(\"0 hab\").str.contains(\"m²\")]"
   ]
  },
  {
   "cell_type": "code",
   "execution_count": 107,
   "id": "dd7154a2",
   "metadata": {},
   "outputs": [],
   "source": [
    "data = data[~data.surface.isna()]"
   ]
  },
  {
   "cell_type": "code",
   "execution_count": 120,
   "id": "0eff0068",
   "metadata": {},
   "outputs": [
    {
     "data": {
      "text/html": [
       "<div>\n",
       "<style scoped>\n",
       "    .dataframe tbody tr th:only-of-type {\n",
       "        vertical-align: middle;\n",
       "    }\n",
       "\n",
       "    .dataframe tbody tr th {\n",
       "        vertical-align: top;\n",
       "    }\n",
       "\n",
       "    .dataframe thead th {\n",
       "        text-align: right;\n",
       "    }\n",
       "</style>\n",
       "<table border=\"1\" class=\"dataframe\">\n",
       "  <thead>\n",
       "    <tr style=\"text-align: right;\">\n",
       "      <th></th>\n",
       "      <th>price</th>\n",
       "      <th>rooms</th>\n",
       "      <th>surface</th>\n",
       "      <th>neighborhood</th>\n",
       "      <th>tipo</th>\n",
       "    </tr>\n",
       "  </thead>\n",
       "  <tbody>\n",
       "    <tr>\n",
       "      <th>0</th>\n",
       "      <td>566.500 €</td>\n",
       "      <td>2 habs.</td>\n",
       "      <td>87 m²</td>\n",
       "      <td>Chamberí</td>\n",
       "      <td>Piso</td>\n",
       "    </tr>\n",
       "    <tr>\n",
       "      <th>1</th>\n",
       "      <td>310.500 €</td>\n",
       "      <td>3 habs.</td>\n",
       "      <td>78 m²</td>\n",
       "      <td>Retiro</td>\n",
       "      <td>Piso</td>\n",
       "    </tr>\n",
       "    <tr>\n",
       "      <th>2</th>\n",
       "      <td>220.000 €</td>\n",
       "      <td>4 habs.</td>\n",
       "      <td>103 m²</td>\n",
       "      <td>Carabanchel</td>\n",
       "      <td>Piso</td>\n",
       "    </tr>\n",
       "    <tr>\n",
       "      <th>3</th>\n",
       "      <td>171.000 €</td>\n",
       "      <td>2 habs.</td>\n",
       "      <td>81 m²</td>\n",
       "      <td>Villa de Vallecas</td>\n",
       "      <td>Piso</td>\n",
       "    </tr>\n",
       "    <tr>\n",
       "      <th>4</th>\n",
       "      <td>369.000 €</td>\n",
       "      <td>3 habs.</td>\n",
       "      <td>83 m²</td>\n",
       "      <td>Centro</td>\n",
       "      <td>Piso</td>\n",
       "    </tr>\n",
       "    <tr>\n",
       "      <th>...</th>\n",
       "      <td>...</td>\n",
       "      <td>...</td>\n",
       "      <td>...</td>\n",
       "      <td>...</td>\n",
       "      <td>...</td>\n",
       "    </tr>\n",
       "    <tr>\n",
       "      <th>6855</th>\n",
       "      <td>515.000 €</td>\n",
       "      <td>4 habs.</td>\n",
       "      <td>106 m²</td>\n",
       "      <td>Centro</td>\n",
       "      <td>Piso</td>\n",
       "    </tr>\n",
       "    <tr>\n",
       "      <th>6856</th>\n",
       "      <td>280.000 €</td>\n",
       "      <td>3 habs.</td>\n",
       "      <td>99 m²</td>\n",
       "      <td>San Blas</td>\n",
       "      <td>Piso</td>\n",
       "    </tr>\n",
       "    <tr>\n",
       "      <th>6857</th>\n",
       "      <td>182.100 €</td>\n",
       "      <td>1 hab.</td>\n",
       "      <td>52 m²</td>\n",
       "      <td>Villaverde</td>\n",
       "      <td>Ático</td>\n",
       "    </tr>\n",
       "    <tr>\n",
       "      <th>6858</th>\n",
       "      <td>220.000 €</td>\n",
       "      <td>1 hab.</td>\n",
       "      <td>42 m²</td>\n",
       "      <td>Centro</td>\n",
       "      <td>Ático</td>\n",
       "    </tr>\n",
       "    <tr>\n",
       "      <th>6859</th>\n",
       "      <td>215.000 €</td>\n",
       "      <td>3 habs.</td>\n",
       "      <td>66 m²</td>\n",
       "      <td>San Blas</td>\n",
       "      <td>Piso</td>\n",
       "    </tr>\n",
       "  </tbody>\n",
       "</table>\n",
       "<p>6699 rows × 5 columns</p>\n",
       "</div>"
      ],
      "text/plain": [
       "          price    rooms surface        neighborhood   tipo\n",
       "0     566.500 €  2 habs.   87 m²            Chamberí   Piso\n",
       "1     310.500 €  3 habs.   78 m²              Retiro   Piso\n",
       "2     220.000 €  4 habs.  103 m²         Carabanchel   Piso\n",
       "3     171.000 €  2 habs.   81 m²   Villa de Vallecas   Piso\n",
       "4     369.000 €  3 habs.   83 m²              Centro   Piso\n",
       "...         ...      ...     ...                 ...    ...\n",
       "6855  515.000 €  4 habs.  106 m²              Centro   Piso\n",
       "6856  280.000 €  3 habs.   99 m²            San Blas   Piso\n",
       "6857  182.100 €   1 hab.   52 m²          Villaverde  Ático\n",
       "6858  220.000 €   1 hab.   42 m²              Centro  Ático\n",
       "6859  215.000 €  3 habs.   66 m²            San Blas   Piso\n",
       "\n",
       "[6699 rows x 5 columns]"
      ]
     },
     "execution_count": 120,
     "metadata": {},
     "output_type": "execute_result"
    }
   ],
   "source": [
    "data"
   ]
  },
  {
   "cell_type": "code",
   "execution_count": null,
   "id": "848bd798",
   "metadata": {},
   "outputs": [],
   "source": []
  },
  {
   "cell_type": "code",
   "execution_count": null,
   "id": "d86fa9d3",
   "metadata": {},
   "outputs": [],
   "source": []
  },
  {
   "cell_type": "code",
   "execution_count": null,
   "id": "e0852604",
   "metadata": {},
   "outputs": [],
   "source": []
  },
  {
   "cell_type": "code",
   "execution_count": null,
   "id": "83e35a18",
   "metadata": {},
   "outputs": [],
   "source": []
  },
  {
   "cell_type": "code",
   "execution_count": null,
   "id": "776b5242",
   "metadata": {},
   "outputs": [],
   "source": []
  },
  {
   "cell_type": "code",
   "execution_count": null,
   "id": "ef20c95c",
   "metadata": {},
   "outputs": [],
   "source": []
  },
  {
   "cell_type": "code",
   "execution_count": null,
   "id": "5318f539",
   "metadata": {},
   "outputs": [],
   "source": []
  }
 ],
 "metadata": {
  "kernelspec": {
   "display_name": "Python 3 (ipykernel)",
   "language": "python",
   "name": "python3"
  },
  "language_info": {
   "codemirror_mode": {
    "name": "ipython",
    "version": 3
   },
   "file_extension": ".py",
   "mimetype": "text/x-python",
   "name": "python",
   "nbconvert_exporter": "python",
   "pygments_lexer": "ipython3",
   "version": "3.8.12"
  },
  "toc": {
   "base_numbering": 1,
   "nav_menu": {},
   "number_sections": true,
   "sideBar": true,
   "skip_h1_title": false,
   "title_cell": "Table of Contents",
   "title_sidebar": "Contents",
   "toc_cell": false,
   "toc_position": {},
   "toc_section_display": true,
   "toc_window_display": false
  }
 },
 "nbformat": 4,
 "nbformat_minor": 5
}
