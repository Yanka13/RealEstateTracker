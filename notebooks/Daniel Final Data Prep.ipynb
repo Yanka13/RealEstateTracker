{
 "cells": [
  {
   "cell_type": "code",
   "execution_count": 1,
   "id": "2b05cceb",
   "metadata": {},
   "outputs": [],
   "source": [
    "import pandas as pd\n",
    "import numpy as np\n",
    "import matplotlib.pyplot as plt\n",
    "import seaborn as sns "
   ]
  },
  {
   "cell_type": "code",
   "execution_count": 2,
   "id": "b5b38234",
   "metadata": {},
   "outputs": [],
   "source": [
    "df = pd.read_csv(\"../raw_data/real_estate_data.csv\",index_col=\"Unnamed: 0\").drop(columns=\"Unnamed: 0.1\")"
   ]
  },
  {
   "cell_type": "code",
   "execution_count": 3,
   "id": "196ff3da",
   "metadata": {},
   "outputs": [],
   "source": [
    "df = df.drop(columns=[\"elevator\",\"heating\",\"floor\"])"
   ]
  },
  {
   "cell_type": "code",
   "execution_count": 4,
   "id": "856910c9",
   "metadata": {},
   "outputs": [
    {
     "name": "stdout",
     "output_type": "stream",
     "text": [
      "<class 'pandas.core.frame.DataFrame'>\n",
      "Int64Index: 6860 entries, 0 to 299\n",
      "Data columns (total 4 columns):\n",
      " #   Column        Non-Null Count  Dtype \n",
      "---  ------        --------------  ----- \n",
      " 0   price         6860 non-null   object\n",
      " 1   rooms         6845 non-null   object\n",
      " 2   surface       6853 non-null   object\n",
      " 3   neighborhood  6860 non-null   object\n",
      "dtypes: object(4)\n",
      "memory usage: 268.0+ KB\n"
     ]
    }
   ],
   "source": [
    "df.info()"
   ]
  },
  {
   "cell_type": "code",
   "execution_count": 5,
   "id": "dc7e0585",
   "metadata": {},
   "outputs": [
    {
     "name": "stderr",
     "output_type": "stream",
     "text": [
      "/tmp/ipykernel_10420/3991259347.py:6: SettingWithCopyWarning: \n",
      "A value is trying to be set on a copy of a slice from a DataFrame.\n",
      "Try using .loc[row_indexer,col_indexer] = value instead\n",
      "\n",
      "See the caveats in the documentation: https://pandas.pydata.org/pandas-docs/stable/user_guide/indexing.html#returning-a-view-versus-a-copy\n",
      "  df_nonull[\"surface\"] = new[0]\n"
     ]
    }
   ],
   "source": [
    "# surface\n",
    "# dropping nulls\n",
    "df_nonull = df[df['surface'].notna()]\n",
    "# cleaning string\n",
    "new = df_nonull[\"surface\"].str.split(\" \", n = 1, expand = True)\n",
    "df_nonull[\"surface\"] = new[0]\n",
    "# filter numbers\n",
    "df_nonull = df_nonull[df_nonull['surface'].str.isnumeric()]\n",
    "# to float\n",
    "df_nonull[\"surface\"] = df_nonull[\"surface\"].astype(float)\n",
    "\n",
    "df = df_nonull"
   ]
  },
  {
   "cell_type": "code",
   "execution_count": 6,
   "id": "63535d5e",
   "metadata": {},
   "outputs": [],
   "source": [
    "# new data frame with split value columns\n",
    "new = df[\"neighborhood\"].str.split(\" en \", n = 1, expand = True)\n",
    "  \n",
    "# making separate housetype\n",
    "df[\"nhousetype\"]= new[0]\n",
    "  \n",
    "# making separate dirty neighborhood\n",
    "df[\"ndirty\"]= new[1]\n",
    "  \n",
    "# cleaning neighborhood\n",
    "new = df[\"ndirty\"].str.split(\" en \", n = 1, expand = True)\n",
    "df[\"neighborhood\"] = new[1]\n",
    "df[\"neighborhood\"] = df[\"neighborhood\"].apply(lambda x: x.split(\", \")[-1])\n",
    "\n",
    "df = df.drop(columns=\"ndirty\")"
   ]
  },
  {
   "cell_type": "code",
   "execution_count": 7,
   "id": "4626b72a",
   "metadata": {},
   "outputs": [
    {
     "data": {
      "text/plain": [
       "array(['Chamberí', 'Retiro', 'Carabanchel', 'Villa de Vallecas', 'Centro',\n",
       "       'Tetuán', 'Puente de Vallecas', 'Barrio de Salamanca', 'Chamartín',\n",
       "       'Usera', 'Moncloa - Aravaca', 'Ciudad Lineal', 'Arganzuela',\n",
       "       'Fuencarral - El Pardo', 'Villaverde', 'Latina', 'Moratalaz',\n",
       "       'Vicálvaro', 'Barajas', 'Hortaleza', ' Madrid Capital', 'San Blas'],\n",
       "      dtype=object)"
      ]
     },
     "execution_count": 7,
     "metadata": {},
     "output_type": "execute_result"
    }
   ],
   "source": [
    "df[\"neighborhood\"].unique()"
   ]
  },
  {
   "cell_type": "code",
   "execution_count": 8,
   "id": "f33cb8ae",
   "metadata": {},
   "outputs": [
    {
     "name": "stderr",
     "output_type": "stream",
     "text": [
      "/tmp/ipykernel_10420/4006196459.py:4: FutureWarning: The default value of regex will change from True to False in a future version. In addition, single character regular expressions will *not* be treated as literal strings when regex=True.\n",
      "  new[0] = new[0].str.replace(\".\",\"\")\n"
     ]
    }
   ],
   "source": [
    "# price\n",
    "# cleaning string\n",
    "new = df[\"price\"].str.split(\" \", n = 1, expand = True)\n",
    "new[0] = new[0].str.replace(\".\",\"\")\n",
    "df[\"price\"] = new[0]\n",
    "# number filter\n",
    "df = df[df['price'].str.isnumeric()]\n",
    "# to float\n",
    "df[\"price\"] = df[\"price\"].astype(float)\n"
   ]
  },
  {
   "cell_type": "code",
   "execution_count": 9,
   "id": "a28a009c",
   "metadata": {},
   "outputs": [],
   "source": [
    "# rooms\n",
    "# cleaning string\n",
    "new = df[\"rooms\"].str.split(\" \", n = 1, expand = True)\n",
    "# to float\n",
    "new[0] = new[0].astype(float)\n",
    "df[\"rooms\"] = new[0]\n",
    "df_clean = df\n"
   ]
  },
  {
   "cell_type": "code",
   "execution_count": 10,
   "id": "86e2e1d7",
   "metadata": {},
   "outputs": [
    {
     "data": {
      "text/plain": [
       "array(['Piso', 'Dúplex', 'Apartamento', 'Ático', 'Loft', 'Planta baja',\n",
       "       'Finca rústica', 'Estudio', 'Casa adosada', 'Casa o chalet'],\n",
       "      dtype=object)"
      ]
     },
     "execution_count": 10,
     "metadata": {},
     "output_type": "execute_result"
    }
   ],
   "source": [
    "df_clean[\"nhousetype\"].unique()\n"
   ]
  },
  {
   "cell_type": "code",
   "execution_count": 11,
   "id": "3a8f594b",
   "metadata": {},
   "outputs": [],
   "source": [
    "localization = {'Piso':'Flat', 'Dúplex':'Duplex', 'Apartamento':'Apartment', 'Ático':'Attic', 'Loft':'Loft', 'Planta baja':'Ground floor',\n",
    "       'Finca rústica':'Rural property', 'Estudio':'Study', 'Casa adosada':'Single-family semi-detached', 'Casa o chalet':'House or chalet'}"
   ]
  },
  {
   "cell_type": "code",
   "execution_count": 15,
   "id": "57ea2d07",
   "metadata": {},
   "outputs": [
    {
     "data": {
      "text/html": [
       "<div>\n",
       "<style scoped>\n",
       "    .dataframe tbody tr th:only-of-type {\n",
       "        vertical-align: middle;\n",
       "    }\n",
       "\n",
       "    .dataframe tbody tr th {\n",
       "        vertical-align: top;\n",
       "    }\n",
       "\n",
       "    .dataframe thead th {\n",
       "        text-align: right;\n",
       "    }\n",
       "</style>\n",
       "<table border=\"1\" class=\"dataframe\">\n",
       "  <thead>\n",
       "    <tr style=\"text-align: right;\">\n",
       "      <th></th>\n",
       "      <th>price</th>\n",
       "      <th>rooms</th>\n",
       "      <th>surface</th>\n",
       "      <th>neighborhood</th>\n",
       "      <th>nhousetype</th>\n",
       "    </tr>\n",
       "  </thead>\n",
       "  <tbody>\n",
       "    <tr>\n",
       "      <th>0</th>\n",
       "      <td>566500.0</td>\n",
       "      <td>2.0</td>\n",
       "      <td>87.0</td>\n",
       "      <td>Chamberí</td>\n",
       "      <td>Piso</td>\n",
       "    </tr>\n",
       "    <tr>\n",
       "      <th>1</th>\n",
       "      <td>310500.0</td>\n",
       "      <td>3.0</td>\n",
       "      <td>78.0</td>\n",
       "      <td>Retiro</td>\n",
       "      <td>Piso</td>\n",
       "    </tr>\n",
       "    <tr>\n",
       "      <th>2</th>\n",
       "      <td>220000.0</td>\n",
       "      <td>4.0</td>\n",
       "      <td>103.0</td>\n",
       "      <td>Carabanchel</td>\n",
       "      <td>Piso</td>\n",
       "    </tr>\n",
       "    <tr>\n",
       "      <th>3</th>\n",
       "      <td>171000.0</td>\n",
       "      <td>2.0</td>\n",
       "      <td>81.0</td>\n",
       "      <td>Villa de Vallecas</td>\n",
       "      <td>Piso</td>\n",
       "    </tr>\n",
       "    <tr>\n",
       "      <th>4</th>\n",
       "      <td>369000.0</td>\n",
       "      <td>3.0</td>\n",
       "      <td>83.0</td>\n",
       "      <td>Centro</td>\n",
       "      <td>Piso</td>\n",
       "    </tr>\n",
       "    <tr>\n",
       "      <th>...</th>\n",
       "      <td>...</td>\n",
       "      <td>...</td>\n",
       "      <td>...</td>\n",
       "      <td>...</td>\n",
       "      <td>...</td>\n",
       "    </tr>\n",
       "    <tr>\n",
       "      <th>5751</th>\n",
       "      <td>515000.0</td>\n",
       "      <td>4.0</td>\n",
       "      <td>106.0</td>\n",
       "      <td>Centro</td>\n",
       "      <td>Piso</td>\n",
       "    </tr>\n",
       "    <tr>\n",
       "      <th>5752</th>\n",
       "      <td>280000.0</td>\n",
       "      <td>3.0</td>\n",
       "      <td>99.0</td>\n",
       "      <td>San Blas</td>\n",
       "      <td>Piso</td>\n",
       "    </tr>\n",
       "    <tr>\n",
       "      <th>5753</th>\n",
       "      <td>182100.0</td>\n",
       "      <td>1.0</td>\n",
       "      <td>52.0</td>\n",
       "      <td>Villaverde</td>\n",
       "      <td>Ático</td>\n",
       "    </tr>\n",
       "    <tr>\n",
       "      <th>5754</th>\n",
       "      <td>220000.0</td>\n",
       "      <td>1.0</td>\n",
       "      <td>42.0</td>\n",
       "      <td>Centro</td>\n",
       "      <td>Ático</td>\n",
       "    </tr>\n",
       "    <tr>\n",
       "      <th>5755</th>\n",
       "      <td>215000.0</td>\n",
       "      <td>3.0</td>\n",
       "      <td>66.0</td>\n",
       "      <td>San Blas</td>\n",
       "      <td>Piso</td>\n",
       "    </tr>\n",
       "  </tbody>\n",
       "</table>\n",
       "<p>5756 rows × 5 columns</p>\n",
       "</div>"
      ],
      "text/plain": [
       "         price  rooms  surface       neighborhood nhousetype\n",
       "0     566500.0    2.0     87.0           Chamberí       Piso\n",
       "1     310500.0    3.0     78.0             Retiro       Piso\n",
       "2     220000.0    4.0    103.0        Carabanchel       Piso\n",
       "3     171000.0    2.0     81.0  Villa de Vallecas       Piso\n",
       "4     369000.0    3.0     83.0             Centro       Piso\n",
       "...        ...    ...      ...                ...        ...\n",
       "5751  515000.0    4.0    106.0             Centro       Piso\n",
       "5752  280000.0    3.0     99.0           San Blas       Piso\n",
       "5753  182100.0    1.0     52.0         Villaverde      Ático\n",
       "5754  220000.0    1.0     42.0             Centro      Ático\n",
       "5755  215000.0    3.0     66.0           San Blas       Piso\n",
       "\n",
       "[5756 rows x 5 columns]"
      ]
     },
     "execution_count": 15,
     "metadata": {},
     "output_type": "execute_result"
    }
   ],
   "source": [
    " df_clean.drop_duplicates().reset_index(drop = True)"
   ]
  }
 ],
 "metadata": {
  "kernelspec": {
   "display_name": "Python 3 (ipykernel)",
   "language": "python",
   "name": "python3"
  },
  "language_info": {
   "codemirror_mode": {
    "name": "ipython",
    "version": 3
   },
   "file_extension": ".py",
   "mimetype": "text/x-python",
   "name": "python",
   "nbconvert_exporter": "python",
   "pygments_lexer": "ipython3",
   "version": "3.8.12"
  },
  "toc": {
   "base_numbering": 1,
   "nav_menu": {},
   "number_sections": true,
   "sideBar": true,
   "skip_h1_title": false,
   "title_cell": "Table of Contents",
   "title_sidebar": "Contents",
   "toc_cell": false,
   "toc_position": {},
   "toc_section_display": true,
   "toc_window_display": false
  }
 },
 "nbformat": 4,
 "nbformat_minor": 5
}
