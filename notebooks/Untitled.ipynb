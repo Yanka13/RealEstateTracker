{
 "cells": [
  {
   "cell_type": "code",
   "execution_count": 2,
   "id": "ea933933",
   "metadata": {},
   "outputs": [],
   "source": [
    "import pandas as pd\n",
    "import os"
   ]
  },
  {
   "cell_type": "code",
   "execution_count": null,
   "id": "681a90ff",
   "metadata": {},
   "outputs": [],
   "source": []
  },
  {
   "cell_type": "code",
   "execution_count": 12,
   "id": "8604e950",
   "metadata": {},
   "outputs": [],
   "source": [
    "data_files = os.listdir(\"../raw_data\")"
   ]
  },
  {
   "cell_type": "code",
   "execution_count": 13,
   "id": "932d810a",
   "metadata": {},
   "outputs": [
    {
     "data": {
      "text/plain": [
       "['real_estate200.csv',\n",
       " 'real_estate50.csv',\n",
       " 'real_estate160.csv',\n",
       " 'real_estate40.csv',\n",
       " '.DS_Store',\n",
       " 'real_estate_20.csv',\n",
       " 'real_estate100.csv',\n",
       " 'real_estate310.csv',\n",
       " 'real_estate_30.csv',\n",
       " 'real_estate120.csv',\n",
       " 'real_estate_10.csv',\n",
       " 'real_estate70.csv']"
      ]
     },
     "execution_count": 13,
     "metadata": {},
     "output_type": "execute_result"
    }
   ],
   "source": [
    "data_files"
   ]
  },
  {
   "cell_type": "code",
   "execution_count": 15,
   "id": "715bc5d2",
   "metadata": {},
   "outputs": [],
   "source": [
    "data_files.remove(\".DS_Store\")"
   ]
  },
  {
   "cell_type": "code",
   "execution_count": 20,
   "id": "aec848a6",
   "metadata": {},
   "outputs": [],
   "source": [
    "def load_files(filenames):\n",
    "    for filename in filenames:\n",
    "        yield pd.read_csv(\"../raw_data/\" + filename)"
   ]
  },
  {
   "cell_type": "code",
   "execution_count": null,
   "id": "32808ee2",
   "metadata": {},
   "outputs": [],
   "source": []
  },
  {
   "cell_type": "code",
   "execution_count": 21,
   "id": "fb68368c",
   "metadata": {},
   "outputs": [],
   "source": [
    "data = pd.concat(load_files(data_files))"
   ]
  },
  {
   "cell_type": "code",
   "execution_count": null,
   "id": "16abd4d6",
   "metadata": {},
   "outputs": [],
   "source": []
  }
 ],
 "metadata": {
  "kernelspec": {
   "display_name": "Python 3 (ipykernel)",
   "language": "python",
   "name": "python3"
  },
  "language_info": {
   "codemirror_mode": {
    "name": "ipython",
    "version": 3
   },
   "file_extension": ".py",
   "mimetype": "text/x-python",
   "name": "python",
   "nbconvert_exporter": "python",
   "pygments_lexer": "ipython3",
   "version": "3.8.12"
  },
  "toc": {
   "base_numbering": 1,
   "nav_menu": {},
   "number_sections": true,
   "sideBar": true,
   "skip_h1_title": false,
   "title_cell": "Table of Contents",
   "title_sidebar": "Contents",
   "toc_cell": false,
   "toc_position": {},
   "toc_section_display": true,
   "toc_window_display": false
  }
 },
 "nbformat": 4,
 "nbformat_minor": 5
}
