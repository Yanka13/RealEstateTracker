{
 "cells": [
  {
   "cell_type": "code",
   "execution_count": 5,
   "id": "83340fa6",
   "metadata": {},
   "outputs": [],
   "source": [
    "import joblib\n",
    "# from google.cloud import storage"
   ]
  },
  {
   "cell_type": "code",
   "execution_count": 6,
   "id": "643b2219",
   "metadata": {},
   "outputs": [],
   "source": [
    "# def upload_model_to_gcp(self):\n",
    "\n",
    "#     client = storage.Client()\n",
    "\n",
    "#     bucket = client.bucket(self.BUCKET_NAME)\n",
    "\n",
    "#     blob = bucket.blob(self.STORAGE_LOCATION)\n",
    "\n",
    "#     blob.upload_from_filename('model.joblib')"
   ]
  },
  {
   "cell_type": "code",
   "execution_count": 7,
   "id": "13e76791",
   "metadata": {},
   "outputs": [],
   "source": [
    "def save_model(model):\n",
    "    \"\"\" Save the trained model into a model.joblib file \"\"\"\n",
    "    joblib.dump(model, 'model.joblib')\n",
    "#     self.upload_model_to_gcp()\n",
    "#     print(f\"uploaded model.joblib to gcp cloud storage under \\n => {self.STORAGE_LOCATION}\")"
   ]
  },
  {
   "cell_type": "code",
   "execution_count": 10,
   "id": "4eb97b65",
   "metadata": {},
   "outputs": [],
   "source": [
    "def load_model(model):\n",
    "    print(f\"Model loaded from path {model}\")\n",
    "    return joblib.load(model)"
   ]
  },
  {
   "cell_type": "code",
   "execution_count": 11,
   "id": "2253ee4c",
   "metadata": {},
   "outputs": [
    {
     "name": "stdout",
     "output_type": "stream",
     "text": [
      "Model loaded from path ./model.joblib\n"
     ]
    }
   ],
   "source": [
    "model = load_model(\"./model.joblib\")"
   ]
  },
  {
   "cell_type": "code",
   "execution_count": null,
   "id": "0f965a26",
   "metadata": {},
   "outputs": [],
   "source": []
  }
 ],
 "metadata": {
  "kernelspec": {
   "display_name": "Python 3 (ipykernel)",
   "language": "python",
   "name": "python3"
  },
  "language_info": {
   "codemirror_mode": {
    "name": "ipython",
    "version": 3
   },
   "file_extension": ".py",
   "mimetype": "text/x-python",
   "name": "python",
   "nbconvert_exporter": "python",
   "pygments_lexer": "ipython3",
   "version": "3.8.12"
  },
  "toc": {
   "base_numbering": 1,
   "nav_menu": {},
   "number_sections": true,
   "sideBar": true,
   "skip_h1_title": false,
   "title_cell": "Table of Contents",
   "title_sidebar": "Contents",
   "toc_cell": false,
   "toc_position": {},
   "toc_section_display": true,
   "toc_window_display": false
  }
 },
 "nbformat": 4,
 "nbformat_minor": 5
}
