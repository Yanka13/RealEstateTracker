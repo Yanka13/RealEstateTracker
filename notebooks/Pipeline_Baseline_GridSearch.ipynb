{
 "cells": [
  {
   "cell_type": "code",
   "execution_count": 96,
   "id": "42587629",
   "metadata": {},
   "outputs": [],
   "source": [
    "import pandas as pd\n",
    "import numpy as np\n",
    "import matplotlib.pyplot as plt\n",
    "import seaborn as sns"
   ]
  },
  {
   "cell_type": "code",
   "execution_count": 2,
   "id": "026159ca",
   "metadata": {},
   "outputs": [],
   "source": [
    "import preprocessing\n",
    "import pipeline"
   ]
  },
  {
   "cell_type": "markdown",
   "id": "06dedfca",
   "metadata": {},
   "source": [
    "# Basic Pipeline + Basic Model "
   ]
  },
  {
   "cell_type": "markdown",
   "id": "badbbdce",
   "metadata": {},
   "source": [
    "### Imports"
   ]
  },
  {
   "cell_type": "code",
   "execution_count": 31,
   "id": "8a4844bd",
   "metadata": {},
   "outputs": [],
   "source": [
    "from sklearn.preprocessing import OneHotEncoder\n",
    "from sklearn.preprocessing import RobustScaler\n",
    "from sklearn.pipeline import make_pipeline\n",
    "from sklearn.compose import make_column_selector\n",
    "from sklearn.compose import make_column_transformer\n",
    "from sklearn.compose import ColumnTransformer\n",
    "from sklearn.model_selection import train_test_split\n",
    "from sklearn.ensemble import GradientBoostingRegressor\n",
    "from sklearn.model_selection import cross_validate\n",
    "from xgboost import XGBRegressor\n",
    "from sklearn.model_selection import GridSearchCV\n",
    "from sklearn.metrics import mean_squared_log_error\n",
    "from sklearn.model_selection import KFold"
   ]
  },
  {
   "cell_type": "markdown",
   "id": "5be5a395",
   "metadata": {},
   "source": [
    "### Download DataFrame"
   ]
  },
  {
   "cell_type": "code",
   "execution_count": 4,
   "id": "d4da7072",
   "metadata": {
    "scrolled": true
   },
   "outputs": [
    {
     "name": "stderr",
     "output_type": "stream",
     "text": [
      "/Users/pilou/code/llenci/real-estate-tracker/notebooks/preprocessing.py:10: SettingWithCopyWarning: \n",
      "A value is trying to be set on a copy of a slice from a DataFrame.\n",
      "Try using .loc[row_indexer,col_indexer] = value instead\n",
      "\n",
      "See the caveats in the documentation: https://pandas.pydata.org/pandas-docs/stable/user_guide/indexing.html#returning-a-view-versus-a-copy\n",
      "  df_nonull[\"surface\"] = new[0]\n",
      "/Users/pilou/code/llenci/real-estate-tracker/notebooks/preprocessing.py:38: FutureWarning: The default value of regex will change from True to False in a future version. In addition, single character regular expressions will *not* be treated as literal strings when regex=True.\n",
      "  new[0] = new[0].str.replace(\".\",\"\")\n",
      "/Users/pilou/code/llenci/real-estate-tracker/notebooks/preprocessing.py:43: SettingWithCopyWarning: \n",
      "A value is trying to be set on a copy of a slice from a DataFrame.\n",
      "Try using .loc[row_indexer,col_indexer] = value instead\n",
      "\n",
      "See the caveats in the documentation: https://pandas.pydata.org/pandas-docs/stable/user_guide/indexing.html#returning-a-view-versus-a-copy\n",
      "  df[\"price\"] = df[\"price\"].astype(float)\n"
     ]
    }
   ],
   "source": [
    "df = preprocessing.preprocess()"
   ]
  },
  {
   "cell_type": "code",
   "execution_count": 37,
   "id": "dcea50e0",
   "metadata": {},
   "outputs": [
    {
     "data": {
      "text/html": [
       "<div>\n",
       "<style scoped>\n",
       "    .dataframe tbody tr th:only-of-type {\n",
       "        vertical-align: middle;\n",
       "    }\n",
       "\n",
       "    .dataframe tbody tr th {\n",
       "        vertical-align: top;\n",
       "    }\n",
       "\n",
       "    .dataframe thead th {\n",
       "        text-align: right;\n",
       "    }\n",
       "</style>\n",
       "<table border=\"1\" class=\"dataframe\">\n",
       "  <thead>\n",
       "    <tr style=\"text-align: right;\">\n",
       "      <th></th>\n",
       "      <th>index</th>\n",
       "      <th>price</th>\n",
       "      <th>rooms</th>\n",
       "      <th>surface</th>\n",
       "      <th>neighborhood</th>\n",
       "      <th>nhousetype</th>\n",
       "    </tr>\n",
       "  </thead>\n",
       "  <tbody>\n",
       "    <tr>\n",
       "      <th>0</th>\n",
       "      <td>0</td>\n",
       "      <td>566500.0</td>\n",
       "      <td>2.0</td>\n",
       "      <td>87.0</td>\n",
       "      <td>Chamberí</td>\n",
       "      <td>Piso</td>\n",
       "    </tr>\n",
       "    <tr>\n",
       "      <th>1</th>\n",
       "      <td>1</td>\n",
       "      <td>310500.0</td>\n",
       "      <td>3.0</td>\n",
       "      <td>78.0</td>\n",
       "      <td>Retiro</td>\n",
       "      <td>Piso</td>\n",
       "    </tr>\n",
       "    <tr>\n",
       "      <th>2</th>\n",
       "      <td>2</td>\n",
       "      <td>220000.0</td>\n",
       "      <td>4.0</td>\n",
       "      <td>103.0</td>\n",
       "      <td>Carabanchel</td>\n",
       "      <td>Piso</td>\n",
       "    </tr>\n",
       "    <tr>\n",
       "      <th>3</th>\n",
       "      <td>3</td>\n",
       "      <td>171000.0</td>\n",
       "      <td>2.0</td>\n",
       "      <td>81.0</td>\n",
       "      <td>Villa de Vallecas</td>\n",
       "      <td>Piso</td>\n",
       "    </tr>\n",
       "    <tr>\n",
       "      <th>4</th>\n",
       "      <td>4</td>\n",
       "      <td>369000.0</td>\n",
       "      <td>3.0</td>\n",
       "      <td>83.0</td>\n",
       "      <td>Centro</td>\n",
       "      <td>Piso</td>\n",
       "    </tr>\n",
       "    <tr>\n",
       "      <th>...</th>\n",
       "      <td>...</td>\n",
       "      <td>...</td>\n",
       "      <td>...</td>\n",
       "      <td>...</td>\n",
       "      <td>...</td>\n",
       "      <td>...</td>\n",
       "    </tr>\n",
       "    <tr>\n",
       "      <th>5751</th>\n",
       "      <td>295</td>\n",
       "      <td>515000.0</td>\n",
       "      <td>4.0</td>\n",
       "      <td>106.0</td>\n",
       "      <td>Centro</td>\n",
       "      <td>Piso</td>\n",
       "    </tr>\n",
       "    <tr>\n",
       "      <th>5752</th>\n",
       "      <td>296</td>\n",
       "      <td>280000.0</td>\n",
       "      <td>3.0</td>\n",
       "      <td>99.0</td>\n",
       "      <td>San Blas</td>\n",
       "      <td>Piso</td>\n",
       "    </tr>\n",
       "    <tr>\n",
       "      <th>5753</th>\n",
       "      <td>297</td>\n",
       "      <td>182100.0</td>\n",
       "      <td>1.0</td>\n",
       "      <td>52.0</td>\n",
       "      <td>Villaverde</td>\n",
       "      <td>Ático</td>\n",
       "    </tr>\n",
       "    <tr>\n",
       "      <th>5754</th>\n",
       "      <td>298</td>\n",
       "      <td>220000.0</td>\n",
       "      <td>1.0</td>\n",
       "      <td>42.0</td>\n",
       "      <td>Centro</td>\n",
       "      <td>Ático</td>\n",
       "    </tr>\n",
       "    <tr>\n",
       "      <th>5755</th>\n",
       "      <td>299</td>\n",
       "      <td>215000.0</td>\n",
       "      <td>3.0</td>\n",
       "      <td>66.0</td>\n",
       "      <td>San Blas</td>\n",
       "      <td>Piso</td>\n",
       "    </tr>\n",
       "  </tbody>\n",
       "</table>\n",
       "<p>5756 rows × 6 columns</p>\n",
       "</div>"
      ],
      "text/plain": [
       "      index     price  rooms  surface       neighborhood nhousetype\n",
       "0         0  566500.0    2.0     87.0           Chamberí       Piso\n",
       "1         1  310500.0    3.0     78.0             Retiro       Piso\n",
       "2         2  220000.0    4.0    103.0        Carabanchel       Piso\n",
       "3         3  171000.0    2.0     81.0  Villa de Vallecas       Piso\n",
       "4         4  369000.0    3.0     83.0             Centro       Piso\n",
       "...     ...       ...    ...      ...                ...        ...\n",
       "5751    295  515000.0    4.0    106.0             Centro       Piso\n",
       "5752    296  280000.0    3.0     99.0           San Blas       Piso\n",
       "5753    297  182100.0    1.0     52.0         Villaverde      Ático\n",
       "5754    298  220000.0    1.0     42.0             Centro      Ático\n",
       "5755    299  215000.0    3.0     66.0           San Blas       Piso\n",
       "\n",
       "[5756 rows x 6 columns]"
      ]
     },
     "execution_count": 37,
     "metadata": {},
     "output_type": "execute_result"
    }
   ],
   "source": [
    "df = df.reset_index()\n",
    "df"
   ]
  },
  {
   "cell_type": "code",
   "execution_count": 38,
   "id": "574f4b5e",
   "metadata": {},
   "outputs": [],
   "source": [
    "df.drop(columns = ['index'] , inplace = True)"
   ]
  },
  {
   "cell_type": "markdown",
   "id": "bd99b493",
   "metadata": {},
   "source": [
    "### Create X and y"
   ]
  },
  {
   "cell_type": "code",
   "execution_count": 39,
   "id": "3febe82c",
   "metadata": {},
   "outputs": [],
   "source": [
    "X = df.drop(columns=\"price\")\n",
    "y = df[['price']]"
   ]
  },
  {
   "cell_type": "markdown",
   "id": "a84e78df",
   "metadata": {},
   "source": [
    "### Create Pipeline"
   ]
  },
  {
   "cell_type": "code",
   "execution_count": 75,
   "id": "ea492fb6",
   "metadata": {},
   "outputs": [],
   "source": [
    "# num transformer\n",
    "num_transformer = make_pipeline(RobustScaler())\n",
    "\n",
    "# cat transformer\n",
    "cat_transformer = make_pipeline(OneHotEncoder(handle_unknown=\"ignore\",\n",
    "                                              sparse = False))\n",
    "\n",
    "# Preproc basic \n",
    "preproc_basic = make_column_transformer((num_transformer, ['rooms','surface']),\n",
    "                                        (cat_transformer,['neighborhood','nhousetype']))              "
   ]
  },
  {
   "cell_type": "markdown",
   "id": "6234ff02",
   "metadata": {},
   "source": [
    "### Apply Pipeline to X"
   ]
  },
  {
   "cell_type": "code",
   "execution_count": 76,
   "id": "0941b73a",
   "metadata": {},
   "outputs": [],
   "source": [
    "X_final = preproc_basic.fit_transform(X)"
   ]
  },
  {
   "cell_type": "markdown",
   "id": "ce304e55",
   "metadata": {},
   "source": [
    "### Create X_final and y_final"
   ]
  },
  {
   "cell_type": "code",
   "execution_count": 77,
   "id": "998ebde0",
   "metadata": {},
   "outputs": [
    {
     "data": {
      "text/plain": [
       "array([[-1.        , -0.04285714,  0.        , ...,  1.        ,\n",
       "         0.        ,  0.        ],\n",
       "       [ 0.        , -0.17142857,  0.        , ...,  1.        ,\n",
       "         0.        ,  0.        ],\n",
       "       [ 1.        ,  0.18571429,  0.        , ...,  1.        ,\n",
       "         0.        ,  0.        ],\n",
       "       ...,\n",
       "       [-2.        , -0.54285714,  0.        , ...,  0.        ,\n",
       "         0.        ,  1.        ],\n",
       "       [-2.        , -0.68571429,  0.        , ...,  0.        ,\n",
       "         0.        ,  1.        ],\n",
       "       [ 0.        , -0.34285714,  0.        , ...,  1.        ,\n",
       "         0.        ,  0.        ]])"
      ]
     },
     "execution_count": 77,
     "metadata": {},
     "output_type": "execute_result"
    }
   ],
   "source": [
    "X_final"
   ]
  },
  {
   "cell_type": "code",
   "execution_count": 78,
   "id": "42b86988",
   "metadata": {},
   "outputs": [],
   "source": [
    "y_final = y"
   ]
  },
  {
   "cell_type": "markdown",
   "id": "43a324a8",
   "metadata": {},
   "source": [
    "### Train Test Split"
   ]
  },
  {
   "cell_type": "code",
   "execution_count": 79,
   "id": "f7e34316",
   "metadata": {},
   "outputs": [],
   "source": [
    "X_train, X_test, y_train, y_test = train_test_split(X_final,y_final,test_size=0.3)"
   ]
  },
  {
   "cell_type": "markdown",
   "id": "619bc372",
   "metadata": {},
   "source": [
    "### Baseline Model"
   ]
  },
  {
   "cell_type": "code",
   "execution_count": 80,
   "id": "1b305fce",
   "metadata": {},
   "outputs": [
    {
     "data": {
      "text/plain": [
       "price    541789.409779\n",
       "dtype: float64"
      ]
     },
     "execution_count": 80,
     "metadata": {},
     "output_type": "execute_result"
    }
   ],
   "source": [
    "y_train.mean()"
   ]
  },
  {
   "cell_type": "code",
   "execution_count": 81,
   "id": "b667ca31",
   "metadata": {},
   "outputs": [
    {
     "data": {
      "text/plain": [
       "0.9093213716673502"
      ]
     },
     "execution_count": 81,
     "metadata": {},
     "output_type": "execute_result"
    }
   ],
   "source": [
    "dummy_prediction = y_train.mean()[0]*np.ones(y_test.shape)\n",
    "dummy_error = mean_squared_log_error(y_test , dummy_prediction)**0.5\n",
    "dummy_error"
   ]
  },
  {
   "cell_type": "markdown",
   "id": "8a4508d8",
   "metadata": {},
   "source": [
    "### Custom Cross Validation Function "
   ]
  },
  {
   "cell_type": "code",
   "execution_count": 82,
   "id": "fe55d792",
   "metadata": {},
   "outputs": [],
   "source": [
    "model = XGBRegressor()"
   ]
  },
  {
   "cell_type": "code",
   "execution_count": 93,
   "id": "c78267c4",
   "metadata": {},
   "outputs": [],
   "source": [
    "def customCrossValidation( model , X , y , cv = 5 , shuffle = True):\n",
    "    scores = []\n",
    "    kf = KFold(n_splits = cv , shuffle = True)\n",
    "    \n",
    "    if isinstance(y , pd.DataFrame):\n",
    "        y = y.to_numpy()\n",
    "    \n",
    "    run = 1\n",
    "    for train_index , test_index in kf.split(X):\n",
    "        print(f'{run=}')\n",
    "        print(\"TRAIN:\", len(train_index), \"TEST:\", len(test_index))\n",
    "        X_train , X_test = X[train_index] , X[test_index]\n",
    "        y_train , y_test = np.log(y[train_index]) , y[test_index]\n",
    "        model.fit(X_train , y_train)\n",
    "        prediction = np.exp(model.predict(X_test))\n",
    "        error = mean_squared_log_error(y_test , prediction)**0.5\n",
    "        scores.append(error)\n",
    "        run += 1\n",
    "    return {\"test_score\" : np.array(scores) }"
   ]
  },
  {
   "cell_type": "code",
   "execution_count": 94,
   "id": "f4707b7d",
   "metadata": {},
   "outputs": [
    {
     "name": "stdout",
     "output_type": "stream",
     "text": [
      "run=1\n",
      "TRAIN: 4604 TEST: 1152\n",
      "run=2\n",
      "TRAIN: 4605 TEST: 1151\n",
      "run=3\n",
      "TRAIN: 4605 TEST: 1151\n",
      "run=4\n",
      "TRAIN: 4605 TEST: 1151\n",
      "run=5\n",
      "TRAIN: 4605 TEST: 1151\n"
     ]
    },
    {
     "data": {
      "text/plain": [
       "0.27981670855748303"
      ]
     },
     "execution_count": 94,
     "metadata": {},
     "output_type": "execute_result"
    }
   ],
   "source": [
    "cv = customCrossValidation( model , X_final , y_final , cv = 5 )\n",
    "score = cv[\"test_score\"].mean()\n",
    "score"
   ]
  },
  {
   "cell_type": "markdown",
   "id": "43e7690b",
   "metadata": {},
   "source": [
    "### GridSearch"
   ]
  },
  {
   "cell_type": "code",
   "execution_count": null,
   "id": "906da3be",
   "metadata": {},
   "outputs": [],
   "source": [
    "params = {\n",
    "        'eta': [0.3,0.4,0.5],\n",
    "        'max_depth': [2,3, 4],\n",
    "        'min_child_weight': [1, 5, 10],\n",
    "        'gamma': [0.1,0.3,0.5],\n",
    "        'subsample': [1.0],\n",
    "        'colsample_bytree': [1.0],\n",
    "        'max_depth': [1,2,3, 4, 5]\n",
    "        }\n",
    "grid = GridSearchCV(model,params,verbose=1,n_jobs=-1,scoring=scorer)"
   ]
  },
  {
   "cell_type": "code",
   "execution_count": null,
   "id": "2aa484de",
   "metadata": {},
   "outputs": [],
   "source": [
    "#search = grid.fit(X_train,y_train)"
   ]
  },
  {
   "cell_type": "code",
   "execution_count": null,
   "id": "8c237cc5",
   "metadata": {},
   "outputs": [],
   "source": [
    "#fit.best_score_"
   ]
  },
  {
   "cell_type": "code",
   "execution_count": null,
   "id": "e747b6ee",
   "metadata": {},
   "outputs": [],
   "source": []
  },
  {
   "cell_type": "markdown",
   "id": "a6ec5904",
   "metadata": {},
   "source": [
    "### Effect of Log on target"
   ]
  },
  {
   "cell_type": "code",
   "execution_count": 97,
   "id": "0a858d6d",
   "metadata": {},
   "outputs": [
    {
     "data": {
      "text/plain": [
       "<AxesSubplot:xlabel='surface', ylabel='price'>"
      ]
     },
     "execution_count": 97,
     "metadata": {},
     "output_type": "execute_result"
    },
    {
     "data": {
      "image/png": "[encoded data removed]",
      "text/plain": [
       "<Figure size 432x288 with 1 Axes>"
      ]
     },
     "metadata": {
      "needs_background": "light"
     },
     "output_type": "display_data"
    }
   ],
   "source": [
    "sns.regplot(data = df , x = 'surface' , y = 'price')"
   ]
  },
  {
   "cell_type": "code",
   "execution_count": 98,
   "id": "09020256",
   "metadata": {},
   "outputs": [],
   "source": [
    "df_logtarget = df.copy()\n",
    "df_logtarget['price'] = np.log(df_logtarget['price'])"
   ]
  },
  {
   "cell_type": "code",
   "execution_count": 99,
   "id": "f27b4e21",
   "metadata": {},
   "outputs": [
    {
     "data": {
      "text/plain": [
       "<AxesSubplot:xlabel='surface', ylabel='price'>"
      ]
     },
     "execution_count": 99,
     "metadata": {},
     "output_type": "execute_result"
    },
    {
     "data": {
      "image/png": "[encoded data removed]",
      "text/plain": [
       "<Figure size 432x288 with 1 Axes>"
      ]
     },
     "metadata": {
      "needs_background": "light"
     },
     "output_type": "display_data"
    }
   ],
   "source": [
    "sns.regplot(data = df_logtarget , x = 'surface' , y = 'price')"
   ]
  }
 ],
 "metadata": {
  "kernelspec": {
   "display_name": "Python 3 (ipykernel)",
   "language": "python",
   "name": "python3"
  },
  "language_info": {
   "codemirror_mode": {
    "name": "ipython",
    "version": 3
   },
   "file_extension": ".py",
   "mimetype": "text/x-python",
   "name": "python",
   "nbconvert_exporter": "python",
   "pygments_lexer": "ipython3",
   "version": "3.8.13"
  },
  "toc": {
   "base_numbering": 1,
   "nav_menu": {},
   "number_sections": true,
   "sideBar": true,
   "skip_h1_title": false,
   "title_cell": "Table of Contents",
   "title_sidebar": "Contents",
   "toc_cell": false,
   "toc_position": {},
   "toc_section_display": true,
   "toc_window_display": false
  }
 },
 "nbformat": 4,
 "nbformat_minor": 5
}
