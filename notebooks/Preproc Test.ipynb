{
 "cells": [
  {
   "cell_type": "code",
   "execution_count": 3,
   "id": "52f317e1",
   "metadata": {
    "scrolled": true
   },
   "outputs": [],
   "source": [
    "from RealEstateTracker.preprocessing import *"
   ]
  },
  {
   "cell_type": "code",
   "execution_count": 12,
   "id": "c036293e",
   "metadata": {},
   "outputs": [
    {
     "name": "stderr",
     "output_type": "stream",
     "text": [
      "/Users/pilou/code/llenci/RealEstateTracker/RealEstateTracker/preprocessing.py:16: SettingWithCopyWarning: \n",
      "A value is trying to be set on a copy of a slice from a DataFrame.\n",
      "Try using .loc[row_indexer,col_indexer] = value instead\n",
      "\n",
      "See the caveats in the documentation: https://pandas.pydata.org/pandas-docs/stable/user_guide/indexing.html#returning-a-view-versus-a-copy\n",
      "  df_nonull[\"surface\"] = new[0]\n",
      "/Users/pilou/code/llenci/RealEstateTracker/RealEstateTracker/preprocessing.py:44: FutureWarning: The default value of regex will change from True to False in a future version. In addition, single character regular expressions will *not* be treated as literal strings when regex=True.\n",
      "  new[0] = new[0].str.replace(\".\",\"\")\n",
      "/Users/pilou/code/llenci/RealEstateTracker/RealEstateTracker/preprocessing.py:49: SettingWithCopyWarning: \n",
      "A value is trying to be set on a copy of a slice from a DataFrame.\n",
      "Try using .loc[row_indexer,col_indexer] = value instead\n",
      "\n",
      "See the caveats in the documentation: https://pandas.pydata.org/pandas-docs/stable/user_guide/indexing.html#returning-a-view-versus-a-copy\n",
      "  df[\"price\"] = df[\"price\"].astype(float)\n"
     ]
    },
    {
     "data": {
      "text/plain": [
       "(     rooms  surface       neighborhood nhousetype\n",
       " 0      2.0     87.0           Chamberí       Piso\n",
       " 1      3.0     78.0             Retiro       Piso\n",
       " 2      4.0    103.0        Carabanchel       Piso\n",
       " 3      2.0     81.0  Villa de Vallecas       Piso\n",
       " 4      3.0     83.0             Centro       Piso\n",
       " ..     ...      ...                ...        ...\n",
       " 295    4.0    106.0             Centro       Piso\n",
       " 296    3.0     99.0           San Blas       Piso\n",
       " 297    1.0     52.0         Villaverde      Ático\n",
       " 298    1.0     42.0             Centro      Ático\n",
       " 299    3.0     66.0           San Blas       Piso\n",
       " \n",
       " [5756 rows x 4 columns],\n",
       "         price\n",
       " 0    566500.0\n",
       " 1    310500.0\n",
       " 2    220000.0\n",
       " 3    171000.0\n",
       " 4    369000.0\n",
       " ..        ...\n",
       " 295  515000.0\n",
       " 296  280000.0\n",
       " 297  182100.0\n",
       " 298  220000.0\n",
       " 299  215000.0\n",
       " \n",
       " [5756 rows x 1 columns])"
      ]
     },
     "execution_count": 12,
     "metadata": {},
     "output_type": "execute_result"
    }
   ],
   "source": [
    "X_y(preprocess())"
   ]
  },
  {
   "cell_type": "code",
   "execution_count": 7,
   "id": "dc2bc9c0",
   "metadata": {},
   "outputs": [],
   "source": [
    "X_train, X_test, y_train, y_test = split(X_y(preprocess()))"
   ]
  },
  {
   "cell_type": "code",
   "execution_count": 10,
   "id": "4c309844",
   "metadata": {},
   "outputs": [
    {
     "data": {
      "text/plain": [
       "[     rooms  surface       neighborhood nhousetype\n",
       " 0      2.0     87.0           Chamberí       Piso\n",
       " 1      3.0     78.0             Retiro       Piso\n",
       " 2      4.0    103.0        Carabanchel       Piso\n",
       " 3      2.0     81.0  Villa de Vallecas       Piso\n",
       " 4      3.0     83.0             Centro       Piso\n",
       " ..     ...      ...                ...        ...\n",
       " 295    4.0    106.0             Centro       Piso\n",
       " 296    3.0     99.0           San Blas       Piso\n",
       " 297    1.0     52.0         Villaverde      Ático\n",
       " 298    1.0     42.0             Centro      Ático\n",
       " 299    3.0     66.0           San Blas       Piso\n",
       " \n",
       " [5756 rows x 4 columns]]"
      ]
     },
     "execution_count": 10,
     "metadata": {},
     "output_type": "execute_result"
    }
   ],
   "source": [
    "X_train"
   ]
  },
  {
   "cell_type": "code",
   "execution_count": 16,
   "id": "3f97c2f4",
   "metadata": {},
   "outputs": [],
   "source": [
    "#X_train.shape"
   ]
  },
  {
   "cell_type": "code",
   "execution_count": 17,
   "id": "95fd6013",
   "metadata": {},
   "outputs": [],
   "source": [
    "#X_train, X_test = pipeline(X_train,X_test)"
   ]
  },
  {
   "cell_type": "code",
   "execution_count": null,
   "id": "1027bcb8",
   "metadata": {},
   "outputs": [],
   "source": []
  }
 ],
 "metadata": {
  "kernelspec": {
   "display_name": "Python 3 (ipykernel)",
   "language": "python",
   "name": "python3"
  },
  "language_info": {
   "codemirror_mode": {
    "name": "ipython",
    "version": 3
   },
   "file_extension": ".py",
   "mimetype": "text/x-python",
   "name": "python",
   "nbconvert_exporter": "python",
   "pygments_lexer": "ipython3",
   "version": "3.8.13"
  },
  "toc": {
   "base_numbering": 1,
   "nav_menu": {},
   "number_sections": true,
   "sideBar": true,
   "skip_h1_title": false,
   "title_cell": "Table of Contents",
   "title_sidebar": "Contents",
   "toc_cell": false,
   "toc_position": {},
   "toc_section_display": true,
   "toc_window_display": false
  }
 },
 "nbformat": 4,
 "nbformat_minor": 5
}
